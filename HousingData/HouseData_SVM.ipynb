{
 "cells": [
  {
   "cell_type": "code",
   "execution_count": 1,
   "metadata": {},
   "outputs": [
    {
     "data": {
      "text/html": [
       "<div>\n",
       "<style scoped>\n",
       "    .dataframe tbody tr th:only-of-type {\n",
       "        vertical-align: middle;\n",
       "    }\n",
       "\n",
       "    .dataframe tbody tr th {\n",
       "        vertical-align: top;\n",
       "    }\n",
       "\n",
       "    .dataframe thead th {\n",
       "        text-align: right;\n",
       "    }\n",
       "</style>\n",
       "<table border=\"1\" class=\"dataframe\">\n",
       "  <thead>\n",
       "    <tr style=\"text-align: right;\">\n",
       "      <th></th>\n",
       "      <th>Unnamed: 0</th>\n",
       "      <th>CRIM</th>\n",
       "      <th>ZN</th>\n",
       "      <th>INDUS</th>\n",
       "      <th>CHAS</th>\n",
       "      <th>NOX</th>\n",
       "      <th>RM</th>\n",
       "      <th>AGE</th>\n",
       "      <th>DIS</th>\n",
       "      <th>RAD</th>\n",
       "      <th>TAX</th>\n",
       "      <th>PTRATIO</th>\n",
       "      <th>B</th>\n",
       "      <th>LSTAT</th>\n",
       "      <th>MEDV</th>\n",
       "    </tr>\n",
       "  </thead>\n",
       "  <tbody>\n",
       "    <tr>\n",
       "      <th>0</th>\n",
       "      <td>0</td>\n",
       "      <td>0.000000</td>\n",
       "      <td>0.18</td>\n",
       "      <td>0.067815</td>\n",
       "      <td>0.0</td>\n",
       "      <td>0.314815</td>\n",
       "      <td>0.577505</td>\n",
       "      <td>0.641607</td>\n",
       "      <td>0.269203</td>\n",
       "      <td>0.000000</td>\n",
       "      <td>0.208015</td>\n",
       "      <td>0.287234</td>\n",
       "      <td>1.000000</td>\n",
       "      <td>0.089680</td>\n",
       "      <td>0.422222</td>\n",
       "    </tr>\n",
       "    <tr>\n",
       "      <th>1</th>\n",
       "      <td>1</td>\n",
       "      <td>0.000236</td>\n",
       "      <td>0.00</td>\n",
       "      <td>0.242302</td>\n",
       "      <td>0.0</td>\n",
       "      <td>0.172840</td>\n",
       "      <td>0.547998</td>\n",
       "      <td>0.782698</td>\n",
       "      <td>0.348962</td>\n",
       "      <td>0.043478</td>\n",
       "      <td>0.104962</td>\n",
       "      <td>0.553191</td>\n",
       "      <td>1.000000</td>\n",
       "      <td>0.204470</td>\n",
       "      <td>0.368889</td>\n",
       "    </tr>\n",
       "    <tr>\n",
       "      <th>2</th>\n",
       "      <td>2</td>\n",
       "      <td>0.000236</td>\n",
       "      <td>0.00</td>\n",
       "      <td>0.242302</td>\n",
       "      <td>0.0</td>\n",
       "      <td>0.172840</td>\n",
       "      <td>0.694386</td>\n",
       "      <td>0.599382</td>\n",
       "      <td>0.348962</td>\n",
       "      <td>0.043478</td>\n",
       "      <td>0.104962</td>\n",
       "      <td>0.553191</td>\n",
       "      <td>0.989737</td>\n",
       "      <td>0.063466</td>\n",
       "      <td>0.660000</td>\n",
       "    </tr>\n",
       "    <tr>\n",
       "      <th>3</th>\n",
       "      <td>3</td>\n",
       "      <td>0.000293</td>\n",
       "      <td>0.00</td>\n",
       "      <td>0.063050</td>\n",
       "      <td>0.0</td>\n",
       "      <td>0.150206</td>\n",
       "      <td>0.658555</td>\n",
       "      <td>0.441813</td>\n",
       "      <td>0.448545</td>\n",
       "      <td>0.086957</td>\n",
       "      <td>0.066794</td>\n",
       "      <td>0.648936</td>\n",
       "      <td>0.994276</td>\n",
       "      <td>0.033389</td>\n",
       "      <td>0.631111</td>\n",
       "    </tr>\n",
       "    <tr>\n",
       "      <th>4</th>\n",
       "      <td>4</td>\n",
       "      <td>0.000705</td>\n",
       "      <td>0.00</td>\n",
       "      <td>0.063050</td>\n",
       "      <td>0.0</td>\n",
       "      <td>0.150206</td>\n",
       "      <td>0.687105</td>\n",
       "      <td>0.528321</td>\n",
       "      <td>0.448545</td>\n",
       "      <td>0.086957</td>\n",
       "      <td>0.066794</td>\n",
       "      <td>0.648936</td>\n",
       "      <td>1.000000</td>\n",
       "      <td>0.303130</td>\n",
       "      <td>0.693333</td>\n",
       "    </tr>\n",
       "  </tbody>\n",
       "</table>\n",
       "</div>"
      ],
      "text/plain": [
       "   Unnamed: 0      CRIM    ZN     INDUS  CHAS       NOX        RM       AGE  \\\n",
       "0           0  0.000000  0.18  0.067815   0.0  0.314815  0.577505  0.641607   \n",
       "1           1  0.000236  0.00  0.242302   0.0  0.172840  0.547998  0.782698   \n",
       "2           2  0.000236  0.00  0.242302   0.0  0.172840  0.694386  0.599382   \n",
       "3           3  0.000293  0.00  0.063050   0.0  0.150206  0.658555  0.441813   \n",
       "4           4  0.000705  0.00  0.063050   0.0  0.150206  0.687105  0.528321   \n",
       "\n",
       "        DIS       RAD       TAX   PTRATIO         B     LSTAT      MEDV  \n",
       "0  0.269203  0.000000  0.208015  0.287234  1.000000  0.089680  0.422222  \n",
       "1  0.348962  0.043478  0.104962  0.553191  1.000000  0.204470  0.368889  \n",
       "2  0.348962  0.043478  0.104962  0.553191  0.989737  0.063466  0.660000  \n",
       "3  0.448545  0.086957  0.066794  0.648936  0.994276  0.033389  0.631111  \n",
       "4  0.448545  0.086957  0.066794  0.648936  1.000000  0.303130  0.693333  "
      ]
     },
     "execution_count": 1,
     "metadata": {},
     "output_type": "execute_result"
    }
   ],
   "source": [
    "# IMPORT DATA :\n",
    "\n",
    "import pandas as pd\n",
    "from sklearn.model_selection import KFold\n",
    "from sklearn import svm\n",
    "from sklearn.model_selection import train_test_split\n",
    "\n",
    "\n",
    "df =pd.read_csv(\"C:/Users/Michel/Documents/IntroML/HousingData/HousingData_post_treatment.csv\")\n",
    "\n",
    "df.head()"
   ]
  },
  {
   "cell_type": "code",
   "execution_count": 6,
   "metadata": {},
   "outputs": [
    {
     "name": "stdout",
     "output_type": "stream",
     "text": [
      "[137 113 196 193 203 165 126 156  64  87  52  87 114 102  80  97 128  73\n",
      " 100  80  40  94  54  48  57  42  65  50  82 108  32  48  36  35  39  87\n",
      "  98 108 144 176 197 153 149 144 110  91  98  65  47  92  95 103 146 131\n",
      "  87 200 144 181 130  94  85  59 119 146 189 132  92 117  72 107 139 114\n",
      " 125 131 138 111  98 106 110 101 159 136 145 126 136 153 122 119 133 165\n",
      " 123 117 126 146 104 162 111 211 219 191 157 152  84  91  99  93  93 102\n",
      "  96  92 114 125  86  85  83  81 110  90 102  91 117 101 103  71  86 111\n",
      "  58  61  78  46  90  94 127  82  57  79  72  69  37  76  43  47  38  57\n",
      "  25  41  57  49  76  56 112  94  55  92  68  57  35 213 140 130 155 228\n",
      " 228 228 124 146 228 135 135 120  72  89 128 133 123 168 129 143 171 207\n",
      " 212 203 210 186 151 169 228 183 170 197 206 174 204 178 167 228 192 173\n",
      " 195 197 188 138 215 226 228 123 141 122 141  98 114  91 121 160 134 146\n",
      " 130 165 112 127 154 114 157 172 221 228 209 181 224 180 140 182 214 225\n",
      " 166 137 147 180 134 130 117  99 119 134  74  83 140 103 142 150 141 145\n",
      " 169 216 116 107 220 228 201 172 194 217 227 177 205 125 175 228 218 105\n",
      " 109 148 141 199 185 183 191 190 167 198 222 200 223 228 184 117  99 129\n",
      " 120 145 163 208 158 136 114 164 156 101 122 166 145 117 151 190 202 162\n",
      " 193 161 125 101  60 118  92 113 135  61  76  96 128 108 135 128 102  83\n",
      " 146 143 127 119  91 123  96  69  92 119 105 109  93  83 104  88  85 187\n",
      "  64 136 179  73  70 128 142 153 126 138  84 172  80 104  76 114 124 123\n",
      " 146  97 106  67 116 157 116 128 228 228 228 228 228  41  41  52  42  37\n",
      "  35  16  17  20  22  29  12   4  18   5  16  23  53 129  15  41  32  35\n",
      "  30  10   0   2   1   4  28   8  10   0  26 158  70 157  52  70  77  62\n",
      "   3   4   6  17  12   9  66  45 106  38  24   8  16  20  21  13  48  44\n",
      "  60  46  24  38  14  11   9  33  18  69  82  56  19  25  51  31  44  34\n",
      "  38  54  60  76  51  44  32  39  51  98  63  75  93 100 111  97  88  89\n",
      "  89  99  97  94 129 170  41  37  66  27  49 111 127 134 146 115 104 110\n",
      "  89 104  54   3   7  40  99 115 142 128  95  81 110  73  67 121 104 136\n",
      " 117  26]\n"
     ]
    }
   ],
   "source": [
    "from sklearn import preprocessing\n",
    "from sklearn import utils\n",
    "\n",
    "\n",
    "x = df.drop('MEDV', axis=1)\n",
    "y = df['MEDV']\n",
    "\n",
    "#convert y values to categorical values\n",
    "lab = preprocessing.LabelEncoder()\n",
    "y_transformed = lab.fit_transform(y)\n",
    "\n",
    "#view transformed values\n",
    "print(y_transformed)\n",
    "\n",
    " \n",
    "X_train,X_test,y_train,y_test = train_test_split(x,y_transformed,test_size=0.3, random_state=42)"
   ]
  },
  {
   "cell_type": "code",
   "execution_count": 7,
   "metadata": {},
   "outputs": [],
   "source": [
    "clf = svm.SVC(kernel=\"poly\",gamma=0.25,degree=2,coef0=0.8, C=1.0)\n",
    "\n",
    "clf.fit(X_train, y_train)\n",
    "y_pred = clf.predict(X_test)"
   ]
  },
  {
   "cell_type": "code",
   "execution_count": 11,
   "metadata": {},
   "outputs": [
    {
     "data": {
      "image/png": "[encoded data removed]",
      "text/plain": [
       "<Figure size 432x288 with 1 Axes>"
      ]
     },
     "metadata": {
      "needs_background": "light"
     },
     "output_type": "display_data"
    }
   ],
   "source": [
    "# Graph :\n",
    "from matplotlib import pyplot as plt \n",
    "import seaborn as sns \n",
    "\n",
    "y_test = lab.inverse_transform(y_test)\n",
    "y_pred = lab.inverse_transform(y_pred)\n",
    "\n",
    "plt.scatter(y_test, abs(y_pred - y_test) ,color='g') \n",
    "\n",
    "\n",
    "\n",
    "plt.show()"
   ]
  },
  {
   "cell_type": "code",
   "execution_count": 12,
   "metadata": {},
   "outputs": [
    {
     "data": {
      "text/plain": [
       "0.013434243014944771"
      ]
     },
     "execution_count": 12,
     "metadata": {},
     "output_type": "execute_result"
    }
   ],
   "source": [
    "# RMSE :\n",
    "\n",
    "from sklearn.metrics import mean_squared_error\n",
    "\n",
    "mean_squared_error(y_test, y_pred)"
   ]
  }
 ],
 "metadata": {
  "kernelspec": {
   "display_name": "Python 3.9.12 ('base')",
   "language": "python",
   "name": "python3"
  },
  "language_info": {
   "codemirror_mode": {
    "name": "ipython",
    "version": 3
   },
   "file_extension": ".py",
   "mimetype": "text/x-python",
   "name": "python",
   "nbconvert_exporter": "python",
   "pygments_lexer": "ipython3",
   "version": "3.9.12"
  },
  "orig_nbformat": 4,
  "vscode": {
   "interpreter": {
    "hash": "e176100370f6050ed722d697212059f8bef3a5ea064d561561d9fc35da14ffea"
   }
  }
 },
 "nbformat": 4,
 "nbformat_minor": 2
}
